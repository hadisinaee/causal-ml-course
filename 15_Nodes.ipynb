{
  "cells": [
    {
      "cell_type": "markdown",
      "metadata": {
        "id": "EwaiZoe6Mcd8"
      },
      "source": [
        "## Tools neeeded"
      ]
    },
    {
      "cell_type": "code",
      "execution_count": 1,
      "metadata": {
        "colab": {
          "base_uri": "https://localhost:8080/"
        },
        "id": "nx74XhEy4QgR",
        "outputId": "d04453b7-5a03-41de-c802-cc8501557526"
      },
      "outputs": [
        {
          "name": "stdout",
          "output_type": "stream",
          "text": [
            "Requirement already satisfied: graphical_model_learning in ./venv/lib/python3.8/site-packages (0.1a7)\n",
            "Requirement already satisfied: matplotlib in ./venv/lib/python3.8/site-packages (from graphical_model_learning) (3.4.1)\n",
            "Requirement already satisfied: graphical-models in ./venv/lib/python3.8/site-packages (from graphical_model_learning) (0.1a18)\n",
            "Requirement already satisfied: tqdm in ./venv/lib/python3.8/site-packages (from graphical_model_learning) (4.64.1)\n",
            "Requirement already satisfied: scipy in ./venv/lib/python3.8/site-packages (from graphical_model_learning) (1.9.3)\n",
            "Requirement already satisfied: conditional-independence in ./venv/lib/python3.8/site-packages (from graphical_model_learning) (0.1a5)\n",
            "Requirement already satisfied: numpy in ./venv/lib/python3.8/site-packages (from graphical_model_learning) (1.23.5)\n",
            "Requirement already satisfied: python-dateutil>=2.7 in ./venv/lib/python3.8/site-packages (from matplotlib->graphical_model_learning) (2.8.2)\n",
            "Requirement already satisfied: pyparsing>=2.2.1 in ./venv/lib/python3.8/site-packages (from matplotlib->graphical_model_learning) (3.0.9)\n",
            "Requirement already satisfied: kiwisolver>=1.0.1 in ./venv/lib/python3.8/site-packages (from matplotlib->graphical_model_learning) (1.4.4)\n",
            "Requirement already satisfied: cycler>=0.10 in ./venv/lib/python3.8/site-packages (from matplotlib->graphical_model_learning) (0.11.0)\n",
            "Requirement already satisfied: pillow>=6.2.0 in ./venv/lib/python3.8/site-packages (from matplotlib->graphical_model_learning) (9.3.0)\n",
            "Requirement already satisfied: pgmpy in ./venv/lib/python3.8/site-packages (from graphical-models->graphical_model_learning) (0.1.20)\n",
            "Requirement already satisfied: einops in ./venv/lib/python3.8/site-packages (from graphical-models->graphical_model_learning) (0.6.0)\n",
            "Requirement already satisfied: xgboost in ./venv/lib/python3.8/site-packages (from graphical-models->graphical_model_learning) (1.7.2)\n",
            "Requirement already satisfied: scikit-learn in ./venv/lib/python3.8/site-packages (from conditional-independence->graphical_model_learning) (1.2.0)\n",
            "Requirement already satisfied: dataclasses in ./venv/lib/python3.8/site-packages (from conditional-independence->graphical_model_learning) (0.6)\n",
            "Requirement already satisfied: typing in ./venv/lib/python3.8/site-packages (from conditional-independence->graphical_model_learning) (3.7.4.3)\n",
            "Requirement already satisfied: numexpr in ./venv/lib/python3.8/site-packages (from conditional-independence->graphical_model_learning) (2.8.4)\n",
            "Requirement already satisfied: ipdb in ./venv/lib/python3.8/site-packages (from conditional-independence->graphical_model_learning) (0.13.9)\n",
            "Requirement already satisfied: pygam in ./venv/lib/python3.8/site-packages (from conditional-independence->graphical_model_learning) (0.8.0)\n",
            "Requirement already satisfied: six>=1.5 in ./venv/lib/python3.8/site-packages (from python-dateutil>=2.7->matplotlib->graphical_model_learning) (1.16.0)\n",
            "Requirement already satisfied: statsmodels in ./venv/lib/python3.8/site-packages (from pgmpy->graphical-models->graphical_model_learning) (0.13.5)\n",
            "Requirement already satisfied: pandas in ./venv/lib/python3.8/site-packages (from pgmpy->graphical-models->graphical_model_learning) (1.5.2)\n",
            "Requirement already satisfied: networkx in ./venv/lib/python3.8/site-packages (from pgmpy->graphical-models->graphical_model_learning) (2.5)\n",
            "Requirement already satisfied: joblib in ./venv/lib/python3.8/site-packages (from pgmpy->graphical-models->graphical_model_learning) (1.2.0)\n",
            "Requirement already satisfied: torch in ./venv/lib/python3.8/site-packages (from pgmpy->graphical-models->graphical_model_learning) (1.13.0)\n",
            "Requirement already satisfied: opt-einsum in ./venv/lib/python3.8/site-packages (from pgmpy->graphical-models->graphical_model_learning) (3.3.0)\n",
            "Requirement already satisfied: threadpoolctl>=2.0.0 in ./venv/lib/python3.8/site-packages (from scikit-learn->conditional-independence->graphical_model_learning) (3.1.0)\n",
            "Requirement already satisfied: toml>=0.10.2; python_version > \"3.6\" in ./venv/lib/python3.8/site-packages (from ipdb->conditional-independence->graphical_model_learning) (0.10.2)\n",
            "Requirement already satisfied: setuptools in ./venv/lib/python3.8/site-packages (from ipdb->conditional-independence->graphical_model_learning) (44.0.0)\n",
            "Requirement already satisfied: decorator; python_version > \"3.6\" in ./venv/lib/python3.8/site-packages (from ipdb->conditional-independence->graphical_model_learning) (5.1.1)\n",
            "Requirement already satisfied: ipython>=7.17.0; python_version > \"3.6\" in ./venv/lib/python3.8/site-packages (from ipdb->conditional-independence->graphical_model_learning) (8.7.0)\n",
            "Requirement already satisfied: progressbar2 in ./venv/lib/python3.8/site-packages (from pygam->conditional-independence->graphical_model_learning) (4.2.0)\n",
            "Requirement already satisfied: future in ./venv/lib/python3.8/site-packages (from pygam->conditional-independence->graphical_model_learning) (0.18.2)\n",
            "Requirement already satisfied: packaging>=21.3 in ./venv/lib/python3.8/site-packages (from statsmodels->pgmpy->graphical-models->graphical_model_learning) (22.0)\n",
            "Requirement already satisfied: patsy>=0.5.2 in ./venv/lib/python3.8/site-packages (from statsmodels->pgmpy->graphical-models->graphical_model_learning) (0.5.3)\n",
            "Requirement already satisfied: pytz>=2020.1 in ./venv/lib/python3.8/site-packages (from pandas->pgmpy->graphical-models->graphical_model_learning) (2022.6)\n",
            "Requirement already satisfied: nvidia-cublas-cu11==11.10.3.66 in ./venv/lib/python3.8/site-packages (from torch->pgmpy->graphical-models->graphical_model_learning) (11.10.3.66)\n",
            "Requirement already satisfied: typing-extensions in ./venv/lib/python3.8/site-packages (from torch->pgmpy->graphical-models->graphical_model_learning) (4.4.0)\n",
            "Requirement already satisfied: nvidia-cuda-runtime-cu11==11.7.99 in ./venv/lib/python3.8/site-packages (from torch->pgmpy->graphical-models->graphical_model_learning) (11.7.99)\n",
            "Requirement already satisfied: nvidia-cuda-nvrtc-cu11==11.7.99 in ./venv/lib/python3.8/site-packages (from torch->pgmpy->graphical-models->graphical_model_learning) (11.7.99)\n",
            "Requirement already satisfied: nvidia-cudnn-cu11==8.5.0.96 in ./venv/lib/python3.8/site-packages (from torch->pgmpy->graphical-models->graphical_model_learning) (8.5.0.96)\n",
            "Requirement already satisfied: backcall in ./venv/lib/python3.8/site-packages (from ipython>=7.17.0; python_version > \"3.6\"->ipdb->conditional-independence->graphical_model_learning) (0.2.0)\n",
            "Requirement already satisfied: jedi>=0.16 in ./venv/lib/python3.8/site-packages (from ipython>=7.17.0; python_version > \"3.6\"->ipdb->conditional-independence->graphical_model_learning) (0.18.2)\n",
            "Requirement already satisfied: pexpect>4.3; sys_platform != \"win32\" in ./venv/lib/python3.8/site-packages (from ipython>=7.17.0; python_version > \"3.6\"->ipdb->conditional-independence->graphical_model_learning) (4.8.0)\n",
            "Requirement already satisfied: traitlets>=5 in ./venv/lib/python3.8/site-packages (from ipython>=7.17.0; python_version > \"3.6\"->ipdb->conditional-independence->graphical_model_learning) (5.7.0)\n",
            "Requirement already satisfied: matplotlib-inline in ./venv/lib/python3.8/site-packages (from ipython>=7.17.0; python_version > \"3.6\"->ipdb->conditional-independence->graphical_model_learning) (0.1.6)\n",
            "Requirement already satisfied: stack-data in ./venv/lib/python3.8/site-packages (from ipython>=7.17.0; python_version > \"3.6\"->ipdb->conditional-independence->graphical_model_learning) (0.6.2)\n",
            "Requirement already satisfied: pygments>=2.4.0 in ./venv/lib/python3.8/site-packages (from ipython>=7.17.0; python_version > \"3.6\"->ipdb->conditional-independence->graphical_model_learning) (2.13.0)\n",
            "Requirement already satisfied: prompt-toolkit<3.1.0,>=3.0.11 in ./venv/lib/python3.8/site-packages (from ipython>=7.17.0; python_version > \"3.6\"->ipdb->conditional-independence->graphical_model_learning) (3.0.36)\n",
            "Requirement already satisfied: pickleshare in ./venv/lib/python3.8/site-packages (from ipython>=7.17.0; python_version > \"3.6\"->ipdb->conditional-independence->graphical_model_learning) (0.7.5)\n",
            "Requirement already satisfied: python-utils>=3.0.0 in ./venv/lib/python3.8/site-packages (from progressbar2->pygam->conditional-independence->graphical_model_learning) (3.4.5)\n",
            "Requirement already satisfied: wheel in ./venv/lib/python3.8/site-packages (from nvidia-cublas-cu11==11.10.3.66->torch->pgmpy->graphical-models->graphical_model_learning) (0.38.4)\n",
            "Requirement already satisfied: parso<0.9.0,>=0.8.0 in ./venv/lib/python3.8/site-packages (from jedi>=0.16->ipython>=7.17.0; python_version > \"3.6\"->ipdb->conditional-independence->graphical_model_learning) (0.8.3)\n",
            "Requirement already satisfied: ptyprocess>=0.5 in ./venv/lib/python3.8/site-packages (from pexpect>4.3; sys_platform != \"win32\"->ipython>=7.17.0; python_version > \"3.6\"->ipdb->conditional-independence->graphical_model_learning) (0.7.0)\n",
            "Requirement already satisfied: pure-eval in ./venv/lib/python3.8/site-packages (from stack-data->ipython>=7.17.0; python_version > \"3.6\"->ipdb->conditional-independence->graphical_model_learning) (0.2.2)\n",
            "Requirement already satisfied: executing>=1.2.0 in ./venv/lib/python3.8/site-packages (from stack-data->ipython>=7.17.0; python_version > \"3.6\"->ipdb->conditional-independence->graphical_model_learning) (1.2.0)\n",
            "Requirement already satisfied: asttokens>=2.1.0 in ./venv/lib/python3.8/site-packages (from stack-data->ipython>=7.17.0; python_version > \"3.6\"->ipdb->conditional-independence->graphical_model_learning) (2.2.1)\n",
            "Requirement already satisfied: wcwidth in ./venv/lib/python3.8/site-packages (from prompt-toolkit<3.1.0,>=3.0.11->ipython>=7.17.0; python_version > \"3.6\"->ipdb->conditional-independence->graphical_model_learning) (0.2.5)\n",
            "Requirement already satisfied: cdt in ./venv/lib/python3.8/site-packages (0.5.23)\n",
            "Requirement already satisfied: skrebate in ./venv/lib/python3.8/site-packages (from cdt) (0.62)\n",
            "Requirement already satisfied: statsmodels in ./venv/lib/python3.8/site-packages (from cdt) (0.13.5)\n",
            "Requirement already satisfied: GPUtil in ./venv/lib/python3.8/site-packages (from cdt) (1.4.0)\n",
            "Requirement already satisfied: joblib in ./venv/lib/python3.8/site-packages (from cdt) (1.2.0)\n",
            "Requirement already satisfied: pandas in ./venv/lib/python3.8/site-packages (from cdt) (1.5.2)\n",
            "Requirement already satisfied: requests in ./venv/lib/python3.8/site-packages (from cdt) (2.28.1)\n",
            "Requirement already satisfied: scikit-learn in ./venv/lib/python3.8/site-packages (from cdt) (1.2.0)\n",
            "Requirement already satisfied: scipy in ./venv/lib/python3.8/site-packages (from cdt) (1.9.3)\n",
            "Requirement already satisfied: tqdm in ./venv/lib/python3.8/site-packages (from cdt) (4.64.1)\n",
            "Requirement already satisfied: networkx in ./venv/lib/python3.8/site-packages (from cdt) (2.5)\n",
            "Requirement already satisfied: numpy in ./venv/lib/python3.8/site-packages (from cdt) (1.23.5)\n",
            "Requirement already satisfied: packaging>=21.3 in ./venv/lib/python3.8/site-packages (from statsmodels->cdt) (22.0)\n",
            "Requirement already satisfied: patsy>=0.5.2 in ./venv/lib/python3.8/site-packages (from statsmodels->cdt) (0.5.3)\n",
            "Requirement already satisfied: python-dateutil>=2.8.1 in ./venv/lib/python3.8/site-packages (from pandas->cdt) (2.8.2)\n",
            "Requirement already satisfied: pytz>=2020.1 in ./venv/lib/python3.8/site-packages (from pandas->cdt) (2022.6)\n",
            "Requirement already satisfied: charset-normalizer<3,>=2 in ./venv/lib/python3.8/site-packages (from requests->cdt) (2.1.1)\n",
            "Requirement already satisfied: urllib3<1.27,>=1.21.1 in ./venv/lib/python3.8/site-packages (from requests->cdt) (1.26.13)\n",
            "Requirement already satisfied: certifi>=2017.4.17 in ./venv/lib/python3.8/site-packages (from requests->cdt) (2022.12.7)\n",
            "Requirement already satisfied: idna<4,>=2.5 in ./venv/lib/python3.8/site-packages (from requests->cdt) (3.4)\n",
            "Requirement already satisfied: threadpoolctl>=2.0.0 in ./venv/lib/python3.8/site-packages (from scikit-learn->cdt) (3.1.0)\n",
            "Requirement already satisfied: decorator>=4.3.0 in ./venv/lib/python3.8/site-packages (from networkx->cdt) (5.1.1)\n",
            "Requirement already satisfied: six in ./venv/lib/python3.8/site-packages (from patsy>=0.5.2->statsmodels->cdt) (1.16.0)\n",
            "Requirement already satisfied: ges in ./venv/lib/python3.8/site-packages (1.1.0)\n",
            "Requirement already satisfied: numpy>=1.15.0 in ./venv/lib/python3.8/site-packages (from ges) (1.23.5)\n",
            "Requirement already satisfied: sempler in ./venv/lib/python3.8/site-packages (0.2.9)\n",
            "Requirement already satisfied: pandas>=1.2.1 in ./venv/lib/python3.8/site-packages (from sempler) (1.5.2)\n",
            "Requirement already satisfied: rpy2>=3.4.1 in ./venv/lib/python3.8/site-packages (from sempler) (3.5.6)\n",
            "Requirement already satisfied: numpy>=1.17.0 in ./venv/lib/python3.8/site-packages (from sempler) (1.23.5)\n",
            "Requirement already satisfied: python-dateutil>=2.8.1 in ./venv/lib/python3.8/site-packages (from pandas>=1.2.1->sempler) (2.8.2)\n",
            "Requirement already satisfied: pytz>=2020.1 in ./venv/lib/python3.8/site-packages (from pandas>=1.2.1->sempler) (2022.6)\n",
            "Requirement already satisfied: tzlocal in ./venv/lib/python3.8/site-packages (from rpy2>=3.4.1->sempler) (4.2)\n",
            "Requirement already satisfied: jinja2 in ./venv/lib/python3.8/site-packages (from rpy2>=3.4.1->sempler) (3.1.2)\n",
            "Requirement already satisfied: cffi>=1.10.0 in ./venv/lib/python3.8/site-packages (from rpy2>=3.4.1->sempler) (1.15.1)\n",
            "Requirement already satisfied: six>=1.5 in ./venv/lib/python3.8/site-packages (from python-dateutil>=2.8.1->pandas>=1.2.1->sempler) (1.16.0)\n",
            "Requirement already satisfied: backports.zoneinfo; python_version < \"3.9\" in ./venv/lib/python3.8/site-packages (from tzlocal->rpy2>=3.4.1->sempler) (0.2.1)\n",
            "Requirement already satisfied: pytz-deprecation-shim in ./venv/lib/python3.8/site-packages (from tzlocal->rpy2>=3.4.1->sempler) (0.1.0.post0)\n",
            "Requirement already satisfied: MarkupSafe>=2.0 in ./venv/lib/python3.8/site-packages (from jinja2->rpy2>=3.4.1->sempler) (2.1.1)\n",
            "Requirement already satisfied: pycparser in ./venv/lib/python3.8/site-packages (from cffi>=1.10.0->rpy2>=3.4.1->sempler) (2.21)\n",
            "Requirement already satisfied: tzdata; python_version >= \"3.6\" in ./venv/lib/python3.8/site-packages (from pytz-deprecation-shim->tzlocal->rpy2>=3.4.1->sempler) (2022.7)\n"
          ]
        },
        {
          "name": "stderr",
          "output_type": "stream",
          "text": [
            "/home/hadi/Downloads/code/causal-ml-course/venv/lib/python3.8/site-packages/tqdm/auto.py:22: TqdmWarning: IProgress not found. Please update jupyter and ipywidgets. See https://ipywidgets.readthedocs.io/en/stable/user_install.html\n",
            "  from .autonotebook import tqdm as notebook_tqdm\n"
          ]
        }
      ],
      "source": [
        "!pip install graphical_model_learning\n",
        "!pip install cdt\n",
        "!pip install ges\n",
        "!pip install sempler\n",
        "\n",
        "from graphical_model_learning import pcalg, gsp\n",
        "from graphical_models.rand import directed_erdos, rand_weights\n",
        "from conditional_independence import MemoizedCI_Tester\n",
        "from conditional_independence import partial_correlation_suffstat, partial_correlation_test\n",
        "from causallearn.search.ConstraintBased.FCI import fci\n",
        "from causallearn.utils.cit import chisq, fisherz\n",
        "\n",
        "import numpy as np\n",
        "import matplotlib.pyplot as plt\n",
        "import ges\n",
        "import sempler"
      ]
    },
    {
      "cell_type": "code",
      "execution_count": 2,
      "metadata": {
        "id": "PX3MmRwCK40R"
      },
      "outputs": [],
      "source": [
        "def get_mec(adj_matrix):\n",
        "  x = list()\n",
        "\n",
        "  # find all morality\n",
        "  for j in range(len(adj_matrix)):\n",
        "    if sum(adj_matrix[:, j]) >= 2:\n",
        "      for i in range(len(adj_matrix)):\n",
        "        if adj_matrix[i, j] == 1 :\n",
        "          x.append([i, j])\n",
        "  \n",
        "  for i in range(len(adj_matrix)):\n",
        "    for j in range(len(adj_matrix)):\n",
        "      if (adj_matrix[i, j] == 1) and (not([i, j] in x)):\n",
        "        adj_matrix[j, i] = 1\n",
        "\n",
        "  return adj_matrix\n",
        "\n",
        "def get_skeleton(adj_matrix):\n",
        "  for i in range(len(adj_matrix)):\n",
        "    for j in range(len(adj_matrix)):\n",
        "      if adj_matrix[i,j] == 1:\n",
        "        adj_matrix[j, i] =1\n",
        "  \n",
        "  return adj_matrix\n",
        "\n",
        "def shd_skeleton_simple(mat1, mat2):\n",
        "  diff = np.abs(mat1 - mat2)\n",
        "  return np.sum(diff)/2\n",
        "\n",
        "def shd_mec_simple(mat1, mat2):\n",
        "  diff = np.abs(mat1 - mat2)\n",
        "  return np.sum(diff)"
      ]
    },
    {
      "cell_type": "code",
      "execution_count": 3,
      "metadata": {},
      "outputs": [
        {
          "name": "stdout",
          "output_type": "stream",
          "text": [
            "Starting Fast Adjacency Search.\n"
          ]
        },
        {
          "name": "stderr",
          "output_type": "stream",
          "text": [
            "Depth=5, working on node 14: 100%|██████████| 15/15 [00:00<00:00, 1061.29it/s]\n"
          ]
        },
        {
          "name": "stdout",
          "output_type": "stream",
          "text": [
            "Finishing Fast Adjacency Search.\n",
            "X1 --> X11\n",
            "X1 --> X14\n",
            "X3 --> X2\n",
            "X10 --> X2\n",
            "X3 --> X6\n",
            "X14 --> X3\n",
            "X10 --> X4\n",
            "X11 --> X4\n",
            "X8 --> X9\n",
            "X14 --> X8\n",
            "X9 --> X15\n",
            "Starting Fast Adjacency Search.\n"
          ]
        },
        {
          "name": "stderr",
          "output_type": "stream",
          "text": [
            "Depth=5, working on node 14: 100%|██████████| 15/15 [00:00<00:00, 852.29it/s]\n"
          ]
        },
        {
          "name": "stdout",
          "output_type": "stream",
          "text": [
            "Finishing Fast Adjacency Search.\n",
            "X3 --> X2\n",
            "X10 --> X2\n",
            "X10 --> X4\n",
            "X10 --> X6\n",
            "X8 --> X9\n",
            "X9 --> X15\n",
            "Starting Fast Adjacency Search.\n"
          ]
        },
        {
          "name": "stderr",
          "output_type": "stream",
          "text": [
            "Depth=5, working on node 14: 100%|██████████| 15/15 [00:00<00:00, 781.83it/s]\n"
          ]
        },
        {
          "name": "stdout",
          "output_type": "stream",
          "text": [
            "Finishing Fast Adjacency Search.\n",
            "X1 --> X11\n",
            "X1 --> X14\n",
            "X3 --> X2\n",
            "X10 --> X2\n",
            "X14 --> X3\n",
            "X10 --> X4\n",
            "X11 --> X4\n",
            "X10 --> X6\n",
            "X8 --> X9\n",
            "X14 --> X8\n",
            "X9 --> X15\n",
            "Starting Fast Adjacency Search.\n"
          ]
        },
        {
          "name": "stderr",
          "output_type": "stream",
          "text": [
            "Depth=5, working on node 14: 100%|██████████| 15/15 [00:00<00:00, 757.07it/s]\n"
          ]
        },
        {
          "name": "stdout",
          "output_type": "stream",
          "text": [
            "Finishing Fast Adjacency Search.\n",
            "X1 --> X7\n",
            "X1 --> X11\n",
            "X3 --> X2\n",
            "X10 --> X2\n",
            "X3 --> X6\n",
            "X10 --> X4\n",
            "X11 --> X4\n",
            "X10 --> X6\n",
            "X8 --> X9\n",
            "X9 --> X15\n",
            "Starting Fast Adjacency Search.\n"
          ]
        },
        {
          "name": "stderr",
          "output_type": "stream",
          "text": [
            "Depth=5, working on node 14: 100%|██████████| 15/15 [00:00<00:00, 849.71it/s]\n"
          ]
        },
        {
          "name": "stdout",
          "output_type": "stream",
          "text": [
            "Finishing Fast Adjacency Search.\n",
            "X1 --> X11\n",
            "X1 --> X14\n",
            "X3 --> X2\n",
            "X10 --> X2\n",
            "X14 --> X3\n",
            "X10 --> X4\n",
            "X11 --> X4\n",
            "X10 --> X6\n",
            "X8 --> X9\n",
            "X14 --> X8\n",
            "X9 --> X15\n",
            "Starting Fast Adjacency Search.\n"
          ]
        },
        {
          "name": "stderr",
          "output_type": "stream",
          "text": [
            "Depth=5, working on node 14: 100%|██████████| 15/15 [00:00<00:00, 894.14it/s] \n"
          ]
        },
        {
          "name": "stdout",
          "output_type": "stream",
          "text": [
            "Finishing Fast Adjacency Search.\n",
            "X3 --> X2\n",
            "X10 --> X2\n",
            "X10 --> X4\n",
            "X10 --> X6\n",
            "X8 --> X9\n",
            "X9 --> X15\n",
            "Starting Fast Adjacency Search.\n"
          ]
        },
        {
          "name": "stderr",
          "output_type": "stream",
          "text": [
            "Depth=5, working on node 14: 100%|██████████| 15/15 [00:00<00:00, 845.28it/s]\n"
          ]
        },
        {
          "name": "stdout",
          "output_type": "stream",
          "text": [
            "Finishing Fast Adjacency Search.\n",
            "X3 --> X2\n",
            "X10 --> X2\n",
            "X3 --> X6\n",
            "X10 --> X4\n",
            "X8 --> X9\n",
            "X9 --> X15\n",
            "Starting Fast Adjacency Search.\n"
          ]
        },
        {
          "name": "stderr",
          "output_type": "stream",
          "text": [
            "Depth=5, working on node 14: 100%|██████████| 15/15 [00:00<00:00, 679.19it/s] \n"
          ]
        },
        {
          "name": "stdout",
          "output_type": "stream",
          "text": [
            "Finishing Fast Adjacency Search.\n",
            "X1 --> X11\n",
            "X1 --> X14\n",
            "X3 --> X2\n",
            "X10 --> X2\n",
            "X14 --> X3\n",
            "X10 --> X4\n",
            "X11 --> X4\n",
            "X10 --> X6\n",
            "X8 --> X9\n",
            "X14 --> X8\n",
            "X9 --> X15\n",
            "Starting Fast Adjacency Search.\n"
          ]
        },
        {
          "name": "stderr",
          "output_type": "stream",
          "text": [
            "Depth=5, working on node 14: 100%|██████████| 15/15 [00:00<00:00, 1026.57it/s]\n"
          ]
        },
        {
          "name": "stdout",
          "output_type": "stream",
          "text": [
            "Finishing Fast Adjacency Search.\n",
            "X3 --> X2\n",
            "X10 --> X2\n",
            "X3 --> X6\n",
            "X10 --> X4\n",
            "X8 --> X9\n",
            "X9 --> X15\n",
            "Starting Fast Adjacency Search.\n"
          ]
        },
        {
          "name": "stderr",
          "output_type": "stream",
          "text": [
            "Depth=5, working on node 14: 100%|██████████| 15/15 [00:00<00:00, 777.91it/s]\n"
          ]
        },
        {
          "name": "stdout",
          "output_type": "stream",
          "text": [
            "Finishing Fast Adjacency Search.\n",
            "X1 --> X11\n",
            "X1 --> X14\n",
            "X3 --> X2\n",
            "X10 --> X2\n",
            "X3 --> X6\n",
            "X14 --> X3\n",
            "X10 --> X4\n",
            "X11 --> X4\n",
            "X8 --> X9\n",
            "X14 --> X8\n",
            "X9 --> X15\n",
            "Starting Fast Adjacency Search.\n"
          ]
        },
        {
          "name": "stderr",
          "output_type": "stream",
          "text": [
            "Depth=5, working on node 14: 100%|██████████| 15/15 [00:00<00:00, 1162.07it/s]\n"
          ]
        },
        {
          "name": "stdout",
          "output_type": "stream",
          "text": [
            "Finishing Fast Adjacency Search.\n",
            "X10 --> X2\n",
            "X3 --> X6\n",
            "X14 --> X3\n",
            "X8 --> X9\n",
            "X9 --> X15\n",
            "Starting Fast Adjacency Search.\n"
          ]
        },
        {
          "name": "stderr",
          "output_type": "stream",
          "text": [
            "Depth=5, working on node 14: 100%|██████████| 15/15 [00:00<00:00, 854.17it/s]\n"
          ]
        },
        {
          "name": "stdout",
          "output_type": "stream",
          "text": [
            "Finishing Fast Adjacency Search.\n",
            "X1 --> X11\n",
            "X1 --> X14\n",
            "X3 --> X2\n",
            "X10 --> X2\n",
            "X14 --> X3\n",
            "X10 --> X4\n",
            "X11 --> X4\n",
            "X10 --> X6\n",
            "X8 --> X9\n",
            "X14 --> X8\n",
            "X9 --> X15\n",
            "Starting Fast Adjacency Search.\n"
          ]
        },
        {
          "name": "stderr",
          "output_type": "stream",
          "text": [
            "Depth=5, working on node 14: 100%|██████████| 15/15 [00:00<00:00, 885.85it/s]\n"
          ]
        },
        {
          "name": "stdout",
          "output_type": "stream",
          "text": [
            "Finishing Fast Adjacency Search.\n",
            "X1 --> X6\n",
            "X1 --> X7\n",
            "X11 --> X1\n",
            "X3 --> X2\n",
            "X10 --> X2\n",
            "X14 --> X3\n",
            "X10 --> X4\n",
            "X10 --> X6\n",
            "X8 --> X9\n",
            "X14 --> X8\n",
            "X9 --> X15\n",
            "Starting Fast Adjacency Search.\n"
          ]
        },
        {
          "name": "stderr",
          "output_type": "stream",
          "text": [
            "Depth=5, working on node 14: 100%|██████████| 15/15 [00:00<00:00, 797.19it/s]\n"
          ]
        },
        {
          "name": "stdout",
          "output_type": "stream",
          "text": [
            "Finishing Fast Adjacency Search.\n",
            "X3 --> X2\n",
            "X10 --> X2\n",
            "X3 --> X6\n",
            "X10 --> X4\n",
            "X8 --> X9\n",
            "X9 --> X15\n",
            "Starting Fast Adjacency Search.\n"
          ]
        },
        {
          "name": "stderr",
          "output_type": "stream",
          "text": [
            "Depth=5, working on node 14: 100%|██████████| 15/15 [00:00<00:00, 838.02it/s] \n"
          ]
        },
        {
          "name": "stdout",
          "output_type": "stream",
          "text": [
            "Finishing Fast Adjacency Search.\n",
            "X1 --> X11\n",
            "X1 --> X14\n",
            "X3 --> X2\n",
            "X10 --> X2\n",
            "X3 --> X6\n",
            "X14 --> X3\n",
            "X10 --> X4\n",
            "X11 --> X4\n",
            "X8 --> X9\n",
            "X14 --> X8\n",
            "X9 --> X15\n",
            "Starting Fast Adjacency Search.\n"
          ]
        },
        {
          "name": "stderr",
          "output_type": "stream",
          "text": [
            "Depth=5, working on node 14: 100%|██████████| 15/15 [00:00<00:00, 909.56it/s] \n"
          ]
        },
        {
          "name": "stdout",
          "output_type": "stream",
          "text": [
            "Finishing Fast Adjacency Search.\n",
            "X3 --> X2\n",
            "X10 --> X2\n",
            "X3 --> X6\n",
            "X10 --> X4\n",
            "X8 --> X9\n",
            "X9 --> X15\n",
            "Starting Fast Adjacency Search.\n"
          ]
        },
        {
          "name": "stderr",
          "output_type": "stream",
          "text": [
            "Depth=5, working on node 14: 100%|██████████| 15/15 [00:00<00:00, 1463.23it/s]\n"
          ]
        },
        {
          "name": "stdout",
          "output_type": "stream",
          "text": [
            "Finishing Fast Adjacency Search.\n",
            "X3 --> X2\n",
            "X10 --> X2\n",
            "X3 --> X6\n",
            "X10 --> X4\n",
            "X8 --> X9\n",
            "X9 --> X15\n",
            "Starting Fast Adjacency Search.\n"
          ]
        },
        {
          "name": "stderr",
          "output_type": "stream",
          "text": [
            "Depth=5, working on node 14: 100%|██████████| 15/15 [00:00<00:00, 1470.58it/s]\n"
          ]
        },
        {
          "name": "stdout",
          "output_type": "stream",
          "text": [
            "Finishing Fast Adjacency Search.\n",
            "X3 --> X2\n",
            "X10 --> X2\n",
            "X3 --> X6\n",
            "X10 --> X4\n",
            "X8 --> X9\n",
            "X9 --> X15\n",
            "Starting Fast Adjacency Search.\n"
          ]
        },
        {
          "name": "stderr",
          "output_type": "stream",
          "text": [
            "Depth=5, working on node 14: 100%|██████████| 15/15 [00:00<00:00, 1175.12it/s]\n"
          ]
        },
        {
          "name": "stdout",
          "output_type": "stream",
          "text": [
            "Finishing Fast Adjacency Search.\n",
            "X3 --> X2\n",
            "X10 --> X2\n",
            "X10 --> X4\n",
            "X10 --> X6\n",
            "X8 --> X9\n",
            "X9 --> X15\n",
            "Starting Fast Adjacency Search.\n"
          ]
        },
        {
          "name": "stderr",
          "output_type": "stream",
          "text": [
            "Depth=1, working on node 14: 100%|██████████| 15/15 [00:00<00:00, 471.04it/s]"
          ]
        },
        {
          "name": "stdout",
          "output_type": "stream",
          "text": [
            "Finishing Fast Adjacency Search.\n"
          ]
        },
        {
          "name": "stderr",
          "output_type": "stream",
          "text": [
            "\n"
          ]
        },
        {
          "name": "stdout",
          "output_type": "stream",
          "text": [
            "Starting Fast Adjacency Search.\n"
          ]
        },
        {
          "name": "stderr",
          "output_type": "stream",
          "text": [
            "Depth=3, working on node 14: 100%|██████████| 15/15 [00:00<00:00, 798.67it/s]"
          ]
        },
        {
          "name": "stdout",
          "output_type": "stream",
          "text": [
            "Finishing Fast Adjacency Search.\n"
          ]
        },
        {
          "name": "stderr",
          "output_type": "stream",
          "text": [
            "\n"
          ]
        },
        {
          "name": "stdout",
          "output_type": "stream",
          "text": [
            "Starting Fast Adjacency Search.\n"
          ]
        },
        {
          "name": "stderr",
          "output_type": "stream",
          "text": [
            "Depth=3, working on node 14: 100%|██████████| 15/15 [00:00<00:00, 665.45it/s]"
          ]
        },
        {
          "name": "stdout",
          "output_type": "stream",
          "text": [
            "Finishing Fast Adjacency Search.\n"
          ]
        },
        {
          "name": "stderr",
          "output_type": "stream",
          "text": [
            "\n"
          ]
        },
        {
          "name": "stdout",
          "output_type": "stream",
          "text": [
            "X1 --> X4\n",
            "X8 --> X1\n",
            "X6 --> X4\n",
            "X15 --> X12\n",
            "Starting Fast Adjacency Search.\n"
          ]
        },
        {
          "name": "stderr",
          "output_type": "stream",
          "text": [
            "Depth=4, working on node 14: 100%|██████████| 15/15 [00:00<00:00, 803.49it/s]\n"
          ]
        },
        {
          "name": "stdout",
          "output_type": "stream",
          "text": [
            "Finishing Fast Adjacency Search.\n",
            "X4 --> X1\n",
            "X6 --> X4\n",
            "X15 --> X12\n",
            "Starting Fast Adjacency Search.\n"
          ]
        },
        {
          "name": "stderr",
          "output_type": "stream",
          "text": [
            "Depth=4, working on node 14: 100%|██████████| 15/15 [00:00<00:00, 815.47it/s]\n"
          ]
        },
        {
          "name": "stdout",
          "output_type": "stream",
          "text": [
            "Finishing Fast Adjacency Search.\n",
            "X4 --> X1\n",
            "X6 --> X4\n",
            "X15 --> X12\n",
            "Starting Fast Adjacency Search.\n"
          ]
        },
        {
          "name": "stderr",
          "output_type": "stream",
          "text": [
            "Depth=4, working on node 14: 100%|██████████| 15/15 [00:00<00:00, 690.15it/s] \n"
          ]
        },
        {
          "name": "stdout",
          "output_type": "stream",
          "text": [
            "Finishing Fast Adjacency Search.\n",
            "X4 --> X1\n",
            "X8 --> X1\n",
            "X6 --> X4\n",
            "X15 --> X12\n",
            "Starting Fast Adjacency Search.\n"
          ]
        },
        {
          "name": "stderr",
          "output_type": "stream",
          "text": [
            "Depth=4, working on node 14: 100%|██████████| 15/15 [00:00<00:00, 837.60it/s]\n"
          ]
        },
        {
          "name": "stdout",
          "output_type": "stream",
          "text": [
            "Finishing Fast Adjacency Search.\n",
            "X4 --> X1\n",
            "X6 --> X4\n",
            "X15 --> X12\n",
            "Starting Fast Adjacency Search.\n"
          ]
        },
        {
          "name": "stderr",
          "output_type": "stream",
          "text": [
            "Depth=4, working on node 14: 100%|██████████| 15/15 [00:00<00:00, 1176.39it/s]\n"
          ]
        },
        {
          "name": "stdout",
          "output_type": "stream",
          "text": [
            "Finishing Fast Adjacency Search.\n",
            "X4 --> X1\n",
            "X6 --> X4\n",
            "X15 --> X12\n",
            "Starting Fast Adjacency Search.\n"
          ]
        },
        {
          "name": "stderr",
          "output_type": "stream",
          "text": [
            "Depth=4, working on node 14: 100%|██████████| 15/15 [00:00<00:00, 671.86it/s] \n"
          ]
        },
        {
          "name": "stdout",
          "output_type": "stream",
          "text": [
            "Finishing Fast Adjacency Search.\n",
            "X4 --> X1\n",
            "X6 --> X4\n",
            "X15 --> X12\n",
            "Starting Fast Adjacency Search.\n"
          ]
        },
        {
          "name": "stderr",
          "output_type": "stream",
          "text": [
            "Depth=4, working on node 14: 100%|██████████| 15/15 [00:00<00:00, 1158.14it/s]\n"
          ]
        },
        {
          "name": "stdout",
          "output_type": "stream",
          "text": [
            "Finishing Fast Adjacency Search.\n",
            "X4 --> X1\n",
            "X6 --> X4\n",
            "X15 --> X12\n",
            "Starting Fast Adjacency Search.\n"
          ]
        },
        {
          "name": "stderr",
          "output_type": "stream",
          "text": [
            "Depth=4, working on node 14: 100%|██████████| 15/15 [00:00<00:00, 659.63it/s]\n"
          ]
        },
        {
          "name": "stdout",
          "output_type": "stream",
          "text": [
            "Finishing Fast Adjacency Search.\n",
            "X4 --> X1\n",
            "X6 --> X4\n",
            "X15 --> X12\n",
            "Starting Fast Adjacency Search.\n"
          ]
        },
        {
          "name": "stderr",
          "output_type": "stream",
          "text": [
            "Depth=4, working on node 14: 100%|██████████| 15/15 [00:00<00:00, 931.94it/s] \n"
          ]
        },
        {
          "name": "stdout",
          "output_type": "stream",
          "text": [
            "Finishing Fast Adjacency Search.\n",
            "X4 --> X1\n",
            "X6 --> X4\n",
            "X15 --> X12\n",
            "Starting Fast Adjacency Search.\n"
          ]
        },
        {
          "name": "stderr",
          "output_type": "stream",
          "text": [
            "Depth=4, working on node 14: 100%|██████████| 15/15 [00:00<00:00, 1099.90it/s]\n"
          ]
        },
        {
          "name": "stdout",
          "output_type": "stream",
          "text": [
            "Finishing Fast Adjacency Search.\n",
            "X4 --> X1\n",
            "X6 --> X4\n",
            "X15 --> X12\n",
            "Starting Fast Adjacency Search.\n"
          ]
        },
        {
          "name": "stderr",
          "output_type": "stream",
          "text": [
            "Depth=4, working on node 14: 100%|██████████| 15/15 [00:00<00:00, 1132.66it/s]\n"
          ]
        },
        {
          "name": "stdout",
          "output_type": "stream",
          "text": [
            "Finishing Fast Adjacency Search.\n",
            "X4 --> X1\n",
            "X6 --> X4\n",
            "X15 --> X12\n",
            "Starting Fast Adjacency Search.\n"
          ]
        },
        {
          "name": "stderr",
          "output_type": "stream",
          "text": [
            "Depth=4, working on node 14: 100%|██████████| 15/15 [00:00<00:00, 826.99it/s]\n"
          ]
        },
        {
          "name": "stdout",
          "output_type": "stream",
          "text": [
            "Finishing Fast Adjacency Search.\n",
            "X4 --> X1\n",
            "X6 --> X4\n",
            "X15 --> X12\n",
            "Starting Fast Adjacency Search.\n"
          ]
        },
        {
          "name": "stderr",
          "output_type": "stream",
          "text": [
            "Depth=4, working on node 14: 100%|██████████| 15/15 [00:00<00:00, 837.42it/s]\n"
          ]
        },
        {
          "name": "stdout",
          "output_type": "stream",
          "text": [
            "Finishing Fast Adjacency Search.\n",
            "X4 --> X1\n",
            "X6 --> X4\n",
            "X15 --> X12\n",
            "Starting Fast Adjacency Search.\n"
          ]
        },
        {
          "name": "stderr",
          "output_type": "stream",
          "text": [
            "Depth=4, working on node 14: 100%|██████████| 15/15 [00:00<00:00, 829.06it/s] \n"
          ]
        },
        {
          "name": "stdout",
          "output_type": "stream",
          "text": [
            "Finishing Fast Adjacency Search.\n",
            "X4 --> X1\n",
            "X6 --> X4\n",
            "X15 --> X12\n",
            "Starting Fast Adjacency Search.\n"
          ]
        },
        {
          "name": "stderr",
          "output_type": "stream",
          "text": [
            "Depth=4, working on node 14: 100%|██████████| 15/15 [00:00<00:00, 653.20it/s]\n"
          ]
        },
        {
          "name": "stdout",
          "output_type": "stream",
          "text": [
            "Finishing Fast Adjacency Search.\n",
            "X4 --> X1\n",
            "X6 --> X4\n",
            "X8 --> X10\n",
            "X8 --> X11\n",
            "X11 --> X13\n",
            "X15 --> X12\n",
            "Starting Fast Adjacency Search.\n"
          ]
        },
        {
          "name": "stderr",
          "output_type": "stream",
          "text": [
            "Depth=4, working on node 14: 100%|██████████| 15/15 [00:00<00:00, 1180.43it/s]\n"
          ]
        },
        {
          "name": "stdout",
          "output_type": "stream",
          "text": [
            "Finishing Fast Adjacency Search.\n",
            "X4 --> X1\n",
            "X6 --> X4\n",
            "X15 --> X12\n",
            "Starting Fast Adjacency Search.\n"
          ]
        },
        {
          "name": "stderr",
          "output_type": "stream",
          "text": [
            "Depth=4, working on node 14: 100%|██████████| 15/15 [00:00<00:00, 793.80it/s] \n"
          ]
        },
        {
          "name": "stdout",
          "output_type": "stream",
          "text": [
            "Finishing Fast Adjacency Search.\n",
            "X4 --> X1\n",
            "X6 --> X4\n",
            "X15 --> X12\n",
            "Starting Fast Adjacency Search.\n"
          ]
        },
        {
          "name": "stderr",
          "output_type": "stream",
          "text": [
            "Depth=4, working on node 14: 100%|██████████| 15/15 [00:00<00:00, 838.73it/s]\n"
          ]
        },
        {
          "name": "stdout",
          "output_type": "stream",
          "text": [
            "Finishing Fast Adjacency Search.\n",
            "X4 --> X1\n",
            "X6 --> X4\n",
            "X15 --> X12\n",
            "Starting Fast Adjacency Search.\n"
          ]
        },
        {
          "name": "stderr",
          "output_type": "stream",
          "text": [
            "Depth=4, working on node 14: 100%|██████████| 15/15 [00:00<00:00, 925.57it/s] \n"
          ]
        },
        {
          "name": "stdout",
          "output_type": "stream",
          "text": [
            "Finishing Fast Adjacency Search.\n",
            "X4 --> X1\n",
            "X8 --> X1\n",
            "X6 --> X4\n",
            "X15 --> X12\n",
            "Starting Fast Adjacency Search.\n"
          ]
        },
        {
          "name": "stderr",
          "output_type": "stream",
          "text": [
            "Depth=4, working on node 14: 100%|██████████| 15/15 [00:00<00:00, 592.11it/s] \n"
          ]
        },
        {
          "name": "stdout",
          "output_type": "stream",
          "text": [
            "Finishing Fast Adjacency Search.\n",
            "X4 --> X1\n",
            "X6 --> X4\n",
            "X15 --> X12\n",
            "Starting Fast Adjacency Search.\n"
          ]
        },
        {
          "name": "stderr",
          "output_type": "stream",
          "text": [
            "Depth=4, working on node 14: 100%|██████████| 15/15 [00:00<00:00, 954.42it/s] \n"
          ]
        },
        {
          "name": "stdout",
          "output_type": "stream",
          "text": [
            "Finishing Fast Adjacency Search.\n",
            "X4 --> X1\n",
            "X6 --> X4\n",
            "X15 --> X12\n",
            "Starting Fast Adjacency Search.\n"
          ]
        },
        {
          "name": "stderr",
          "output_type": "stream",
          "text": [
            "Depth=4, working on node 14: 100%|██████████| 15/15 [00:00<00:00, 790.92it/s] \n"
          ]
        },
        {
          "name": "stdout",
          "output_type": "stream",
          "text": [
            "Finishing Fast Adjacency Search.\n",
            "X4 --> X1\n",
            "X6 --> X4\n",
            "X15 --> X12\n",
            "Starting Fast Adjacency Search.\n"
          ]
        },
        {
          "name": "stderr",
          "output_type": "stream",
          "text": [
            "Depth=4, working on node 14: 100%|██████████| 15/15 [00:00<00:00, 847.41it/s]\n"
          ]
        },
        {
          "name": "stdout",
          "output_type": "stream",
          "text": [
            "Finishing Fast Adjacency Search.\n",
            "X4 --> X1\n",
            "X6 --> X4\n",
            "X15 --> X12\n",
            "Starting Fast Adjacency Search.\n"
          ]
        },
        {
          "name": "stderr",
          "output_type": "stream",
          "text": [
            "Depth=4, working on node 14: 100%|██████████| 15/15 [00:00<00:00, 881.55it/s] \n"
          ]
        },
        {
          "name": "stdout",
          "output_type": "stream",
          "text": [
            "Finishing Fast Adjacency Search.\n",
            "X4 --> X1\n",
            "X6 --> X4\n",
            "X15 --> X12\n",
            "Starting Fast Adjacency Search.\n"
          ]
        },
        {
          "name": "stderr",
          "output_type": "stream",
          "text": [
            "Depth=4, working on node 14: 100%|██████████| 15/15 [00:00<00:00, 852.11it/s]\n"
          ]
        },
        {
          "name": "stdout",
          "output_type": "stream",
          "text": [
            "Finishing Fast Adjacency Search.\n",
            "X4 --> X1\n",
            "X6 --> X4\n",
            "X15 --> X12\n",
            "Starting Fast Adjacency Search.\n"
          ]
        },
        {
          "name": "stderr",
          "output_type": "stream",
          "text": [
            "Depth=4, working on node 14: 100%|██████████| 15/15 [00:00<00:00, 1019.75it/s]\n"
          ]
        },
        {
          "name": "stdout",
          "output_type": "stream",
          "text": [
            "Finishing Fast Adjacency Search.\n",
            "X4 --> X1\n",
            "X6 --> X4\n",
            "X15 --> X12\n",
            "Starting Fast Adjacency Search.\n"
          ]
        },
        {
          "name": "stderr",
          "output_type": "stream",
          "text": [
            "Depth=4, working on node 14: 100%|██████████| 15/15 [00:00<00:00, 1339.23it/s]\n"
          ]
        },
        {
          "name": "stdout",
          "output_type": "stream",
          "text": [
            "Finishing Fast Adjacency Search.\n",
            "X4 --> X1\n",
            "X6 --> X4\n",
            "X15 --> X12\n",
            "Starting Fast Adjacency Search.\n"
          ]
        },
        {
          "name": "stderr",
          "output_type": "stream",
          "text": [
            "Depth=4, working on node 14: 100%|██████████| 15/15 [00:00<00:00, 802.20it/s] \n"
          ]
        },
        {
          "name": "stdout",
          "output_type": "stream",
          "text": [
            "Finishing Fast Adjacency Search.\n",
            "X4 --> X1\n",
            "X6 --> X4\n",
            "X15 --> X12\n",
            "Starting Fast Adjacency Search.\n"
          ]
        },
        {
          "name": "stderr",
          "output_type": "stream",
          "text": [
            "Depth=4, working on node 14: 100%|██████████| 15/15 [00:00<00:00, 882.61it/s]\n"
          ]
        },
        {
          "name": "stdout",
          "output_type": "stream",
          "text": [
            "Finishing Fast Adjacency Search.\n",
            "X4 --> X1\n",
            "X6 --> X4\n",
            "X15 --> X12\n",
            "Starting Fast Adjacency Search.\n"
          ]
        },
        {
          "name": "stderr",
          "output_type": "stream",
          "text": [
            "Depth=4, working on node 14: 100%|██████████| 15/15 [00:00<00:00, 766.76it/s] \n"
          ]
        },
        {
          "name": "stdout",
          "output_type": "stream",
          "text": [
            "Finishing Fast Adjacency Search.\n",
            "X4 --> X1\n",
            "X6 --> X4\n",
            "X15 --> X12\n",
            "Starting Fast Adjacency Search.\n"
          ]
        },
        {
          "name": "stderr",
          "output_type": "stream",
          "text": [
            "Depth=4, working on node 14: 100%|██████████| 15/15 [00:00<00:00, 775.69it/s] \n"
          ]
        },
        {
          "name": "stdout",
          "output_type": "stream",
          "text": [
            "Finishing Fast Adjacency Search.\n",
            "X4 --> X1\n",
            "X6 --> X4\n",
            "X15 --> X12\n",
            "Starting Fast Adjacency Search.\n"
          ]
        },
        {
          "name": "stderr",
          "output_type": "stream",
          "text": [
            "Depth=4, working on node 14: 100%|██████████| 15/15 [00:00<00:00, 820.66it/s]\n"
          ]
        },
        {
          "name": "stdout",
          "output_type": "stream",
          "text": [
            "Finishing Fast Adjacency Search.\n",
            "X4 --> X1\n",
            "X6 --> X4\n",
            "X15 --> X12\n",
            "Starting Fast Adjacency Search.\n"
          ]
        },
        {
          "name": "stderr",
          "output_type": "stream",
          "text": [
            "Depth=4, working on node 14: 100%|██████████| 15/15 [00:00<00:00, 967.75it/s] \n"
          ]
        },
        {
          "name": "stdout",
          "output_type": "stream",
          "text": [
            "Finishing Fast Adjacency Search.\n",
            "X4 --> X1\n",
            "X6 --> X4\n",
            "X15 --> X12\n",
            "Starting Fast Adjacency Search.\n"
          ]
        },
        {
          "name": "stderr",
          "output_type": "stream",
          "text": [
            "Depth=4, working on node 14: 100%|██████████| 15/15 [00:00<00:00, 817.11it/s]\n"
          ]
        },
        {
          "name": "stdout",
          "output_type": "stream",
          "text": [
            "Finishing Fast Adjacency Search.\n",
            "X4 --> X1\n",
            "X6 --> X4\n",
            "X15 --> X12\n",
            "Starting Fast Adjacency Search.\n"
          ]
        },
        {
          "name": "stderr",
          "output_type": "stream",
          "text": [
            "Depth=4, working on node 14: 100%|██████████| 15/15 [00:00<00:00, 776.63it/s]\n"
          ]
        },
        {
          "name": "stdout",
          "output_type": "stream",
          "text": [
            "Finishing Fast Adjacency Search.\n",
            "X4 --> X1\n",
            "X6 --> X4\n",
            "X15 --> X12\n",
            "Starting Fast Adjacency Search.\n"
          ]
        },
        {
          "name": "stderr",
          "output_type": "stream",
          "text": [
            "Depth=4, working on node 14: 100%|██████████| 15/15 [00:00<00:00, 1007.73it/s]\n"
          ]
        },
        {
          "name": "stdout",
          "output_type": "stream",
          "text": [
            "Finishing Fast Adjacency Search.\n",
            "X4 --> X1\n",
            "X6 --> X4\n",
            "X15 --> X12\n",
            "Starting Fast Adjacency Search.\n"
          ]
        },
        {
          "name": "stderr",
          "output_type": "stream",
          "text": [
            "Depth=4, working on node 14: 100%|██████████| 15/15 [00:00<00:00, 825.12it/s]\n"
          ]
        },
        {
          "name": "stdout",
          "output_type": "stream",
          "text": [
            "Finishing Fast Adjacency Search.\n",
            "X4 --> X1\n",
            "X6 --> X4\n",
            "X15 --> X12\n",
            "Starting Fast Adjacency Search.\n"
          ]
        },
        {
          "name": "stderr",
          "output_type": "stream",
          "text": [
            "Depth=4, working on node 14: 100%|██████████| 15/15 [00:00<00:00, 1124.76it/s]\n"
          ]
        },
        {
          "name": "stdout",
          "output_type": "stream",
          "text": [
            "Finishing Fast Adjacency Search.\n",
            "X4 --> X1\n",
            "X6 --> X4\n",
            "X15 --> X12\n",
            "Starting Fast Adjacency Search.\n"
          ]
        },
        {
          "name": "stderr",
          "output_type": "stream",
          "text": [
            "Depth=4, working on node 14: 100%|██████████| 15/15 [00:00<00:00, 670.25it/s]\n"
          ]
        },
        {
          "name": "stdout",
          "output_type": "stream",
          "text": [
            "Finishing Fast Adjacency Search.\n",
            "X4 --> X1\n",
            "X8 --> X1\n",
            "X6 --> X4\n",
            "X6 --> X8\n",
            "X8 --> X10\n",
            "X15 --> X12\n",
            "Starting Fast Adjacency Search.\n"
          ]
        },
        {
          "name": "stderr",
          "output_type": "stream",
          "text": [
            "Depth=4, working on node 14: 100%|██████████| 15/15 [00:00<00:00, 701.99it/s] \n"
          ]
        },
        {
          "name": "stdout",
          "output_type": "stream",
          "text": [
            "Finishing Fast Adjacency Search.\n",
            "X4 --> X1\n",
            "X6 --> X4\n",
            "X15 --> X12\n",
            "Starting Fast Adjacency Search.\n"
          ]
        },
        {
          "name": "stderr",
          "output_type": "stream",
          "text": [
            "Depth=4, working on node 14: 100%|██████████| 15/15 [00:00<00:00, 770.04it/s]\n"
          ]
        },
        {
          "name": "stdout",
          "output_type": "stream",
          "text": [
            "Finishing Fast Adjacency Search.\n",
            "X4 --> X1\n",
            "X6 --> X4\n",
            "X15 --> X12\n",
            "Starting Fast Adjacency Search.\n"
          ]
        },
        {
          "name": "stderr",
          "output_type": "stream",
          "text": [
            "Depth=4, working on node 14: 100%|██████████| 15/15 [00:00<00:00, 819.84it/s]\n"
          ]
        },
        {
          "name": "stdout",
          "output_type": "stream",
          "text": [
            "Finishing Fast Adjacency Search.\n",
            "X4 --> X1\n",
            "X6 --> X4\n",
            "X15 --> X12\n",
            "Starting Fast Adjacency Search.\n"
          ]
        },
        {
          "name": "stderr",
          "output_type": "stream",
          "text": [
            "Depth=4, working on node 14: 100%|██████████| 15/15 [00:00<00:00, 1282.82it/s]\n"
          ]
        },
        {
          "name": "stdout",
          "output_type": "stream",
          "text": [
            "Finishing Fast Adjacency Search.\n",
            "X4 --> X1\n",
            "X6 --> X4\n",
            "X15 --> X12\n",
            "Starting Fast Adjacency Search.\n"
          ]
        },
        {
          "name": "stderr",
          "output_type": "stream",
          "text": [
            "Depth=4, working on node 14: 100%|██████████| 15/15 [00:00<00:00, 730.04it/s]\n"
          ]
        },
        {
          "name": "stdout",
          "output_type": "stream",
          "text": [
            "Finishing Fast Adjacency Search.\n",
            "X4 --> X1\n",
            "X6 --> X4\n",
            "X15 --> X12\n",
            "Starting Fast Adjacency Search.\n"
          ]
        },
        {
          "name": "stderr",
          "output_type": "stream",
          "text": [
            "Depth=4, working on node 14: 100%|██████████| 15/15 [00:00<00:00, 739.47it/s] \n"
          ]
        },
        {
          "name": "stdout",
          "output_type": "stream",
          "text": [
            "Finishing Fast Adjacency Search.\n",
            "X4 --> X1\n",
            "X6 --> X4\n",
            "X15 --> X12\n",
            "Starting Fast Adjacency Search.\n"
          ]
        },
        {
          "name": "stderr",
          "output_type": "stream",
          "text": [
            "Depth=4, working on node 14: 100%|██████████| 15/15 [00:00<00:00, 724.61it/s] \n"
          ]
        },
        {
          "name": "stdout",
          "output_type": "stream",
          "text": [
            "Finishing Fast Adjacency Search.\n",
            "X4 --> X1\n",
            "X6 --> X4\n",
            "X15 --> X12\n",
            "Starting Fast Adjacency Search.\n"
          ]
        },
        {
          "name": "stderr",
          "output_type": "stream",
          "text": [
            "Depth=4, working on node 14: 100%|██████████| 15/15 [00:00<00:00, 926.25it/s] \n"
          ]
        },
        {
          "name": "stdout",
          "output_type": "stream",
          "text": [
            "Finishing Fast Adjacency Search.\n",
            "X4 --> X1\n",
            "X6 --> X4\n",
            "X10 --> X9\n",
            "X15 --> X9\n",
            "X15 --> X12\n",
            "Starting Fast Adjacency Search.\n"
          ]
        },
        {
          "name": "stderr",
          "output_type": "stream",
          "text": [
            "Depth=4, working on node 14: 100%|██████████| 15/15 [00:00<00:00, 1531.44it/s]\n"
          ]
        },
        {
          "name": "stdout",
          "output_type": "stream",
          "text": [
            "Finishing Fast Adjacency Search.\n",
            "X4 --> X1\n",
            "X1 --> X8\n",
            "X6 --> X4\n",
            "X8 --> X10\n",
            "X8 --> X11\n",
            "X11 --> X13\n",
            "X15 --> X12\n",
            "Starting Fast Adjacency Search.\n"
          ]
        },
        {
          "name": "stderr",
          "output_type": "stream",
          "text": [
            "Depth=4, working on node 14: 100%|██████████| 15/15 [00:00<00:00, 816.68it/s]\n"
          ]
        },
        {
          "name": "stdout",
          "output_type": "stream",
          "text": [
            "Finishing Fast Adjacency Search.\n",
            "X4 --> X1\n",
            "X6 --> X4\n",
            "X15 --> X12\n",
            "Starting Fast Adjacency Search.\n"
          ]
        },
        {
          "name": "stderr",
          "output_type": "stream",
          "text": [
            "Depth=4, working on node 14: 100%|██████████| 15/15 [00:00<00:00, 743.42it/s]\n"
          ]
        },
        {
          "name": "stdout",
          "output_type": "stream",
          "text": [
            "Finishing Fast Adjacency Search.\n",
            "X4 --> X1\n",
            "X6 --> X4\n",
            "X15 --> X12\n",
            "Starting Fast Adjacency Search.\n"
          ]
        },
        {
          "name": "stderr",
          "output_type": "stream",
          "text": [
            "Depth=4, working on node 14: 100%|██████████| 15/15 [00:00<00:00, 1320.18it/s]\n"
          ]
        },
        {
          "name": "stdout",
          "output_type": "stream",
          "text": [
            "Finishing Fast Adjacency Search.\n",
            "X4 --> X1\n",
            "X6 --> X4\n",
            "X10 --> X9\n",
            "X15 --> X9\n",
            "X15 --> X12\n",
            "Starting Fast Adjacency Search.\n"
          ]
        },
        {
          "name": "stderr",
          "output_type": "stream",
          "text": [
            "Depth=4, working on node 14: 100%|██████████| 15/15 [00:00<00:00, 873.24it/s] \n"
          ]
        },
        {
          "name": "stdout",
          "output_type": "stream",
          "text": [
            "Finishing Fast Adjacency Search.\n",
            "X4 --> X1\n",
            "X6 --> X4\n",
            "X15 --> X12\n",
            "Starting Fast Adjacency Search.\n"
          ]
        },
        {
          "name": "stderr",
          "output_type": "stream",
          "text": [
            "Depth=4, working on node 14: 100%|██████████| 15/15 [00:00<00:00, 1143.82it/s]\n"
          ]
        },
        {
          "name": "stdout",
          "output_type": "stream",
          "text": [
            "Finishing Fast Adjacency Search.\n",
            "X4 --> X1\n",
            "X3 --> X2\n",
            "X3 --> X7\n",
            "X6 --> X4\n",
            "X15 --> X12\n",
            "Starting Fast Adjacency Search.\n"
          ]
        },
        {
          "name": "stderr",
          "output_type": "stream",
          "text": [
            "Depth=4, working on node 14: 100%|██████████| 15/15 [00:00<00:00, 855.64it/s] \n"
          ]
        },
        {
          "name": "stdout",
          "output_type": "stream",
          "text": [
            "Finishing Fast Adjacency Search.\n",
            "X4 --> X1\n",
            "X6 --> X4\n",
            "X15 --> X12\n",
            "Starting Fast Adjacency Search.\n"
          ]
        },
        {
          "name": "stderr",
          "output_type": "stream",
          "text": [
            "Depth=4, working on node 14: 100%|██████████| 15/15 [00:00<00:00, 741.08it/s]\n"
          ]
        },
        {
          "name": "stdout",
          "output_type": "stream",
          "text": [
            "Finishing Fast Adjacency Search.\n",
            "X4 --> X1\n",
            "X6 --> X4\n",
            "X10 --> X9\n",
            "X15 --> X9\n",
            "X15 --> X12\n",
            "Starting Fast Adjacency Search.\n"
          ]
        },
        {
          "name": "stderr",
          "output_type": "stream",
          "text": [
            "Depth=4, working on node 14: 100%|██████████| 15/15 [00:00<00:00, 915.52it/s] \n"
          ]
        },
        {
          "name": "stdout",
          "output_type": "stream",
          "text": [
            "Finishing Fast Adjacency Search.\n",
            "X4 --> X1\n",
            "X6 --> X4\n",
            "X10 --> X9\n",
            "X15 --> X9\n",
            "X15 --> X12\n",
            "Starting Fast Adjacency Search.\n"
          ]
        },
        {
          "name": "stderr",
          "output_type": "stream",
          "text": [
            "Depth=4, working on node 14: 100%|██████████| 15/15 [00:00<00:00, 812.30it/s] \n"
          ]
        },
        {
          "name": "stdout",
          "output_type": "stream",
          "text": [
            "Finishing Fast Adjacency Search.\n",
            "X4 --> X1\n",
            "X6 --> X4\n",
            "X10 --> X9\n",
            "X15 --> X9\n",
            "X15 --> X12\n",
            "Starting Fast Adjacency Search.\n"
          ]
        },
        {
          "name": "stderr",
          "output_type": "stream",
          "text": [
            "Depth=4, working on node 14: 100%|██████████| 15/15 [00:00<00:00, 977.69it/s] \n"
          ]
        },
        {
          "name": "stdout",
          "output_type": "stream",
          "text": [
            "Finishing Fast Adjacency Search.\n",
            "X4 --> X1\n",
            "X6 --> X4\n",
            "X15 --> X12\n",
            "Starting Fast Adjacency Search.\n"
          ]
        },
        {
          "name": "stderr",
          "output_type": "stream",
          "text": [
            "Depth=4, working on node 14: 100%|██████████| 15/15 [00:00<00:00, 810.40it/s] \n"
          ]
        },
        {
          "name": "stdout",
          "output_type": "stream",
          "text": [
            "Finishing Fast Adjacency Search.\n",
            "X4 --> X1\n",
            "X6 --> X4\n",
            "X15 --> X12\n",
            "Starting Fast Adjacency Search.\n"
          ]
        },
        {
          "name": "stderr",
          "output_type": "stream",
          "text": [
            "Depth=4, working on node 14: 100%|██████████| 15/15 [00:00<00:00, 1165.06it/s]\n"
          ]
        },
        {
          "name": "stdout",
          "output_type": "stream",
          "text": [
            "Finishing Fast Adjacency Search.\n",
            "X4 --> X1\n",
            "X6 --> X4\n",
            "X15 --> X12\n",
            "Starting Fast Adjacency Search.\n"
          ]
        },
        {
          "name": "stderr",
          "output_type": "stream",
          "text": [
            "Depth=4, working on node 14: 100%|██████████| 15/15 [00:00<00:00, 825.67it/s]\n"
          ]
        },
        {
          "name": "stdout",
          "output_type": "stream",
          "text": [
            "Finishing Fast Adjacency Search.\n",
            "X4 --> X1\n",
            "X6 --> X4\n",
            "X10 --> X9\n",
            "X15 --> X9\n",
            "X15 --> X12\n",
            "Starting Fast Adjacency Search.\n"
          ]
        },
        {
          "name": "stderr",
          "output_type": "stream",
          "text": [
            "Depth=4, working on node 14: 100%|██████████| 15/15 [00:00<00:00, 763.04it/s]\n"
          ]
        },
        {
          "name": "stdout",
          "output_type": "stream",
          "text": [
            "Finishing Fast Adjacency Search.\n",
            "X4 --> X1\n",
            "X6 --> X4\n",
            "X15 --> X12\n",
            "Starting Fast Adjacency Search.\n"
          ]
        },
        {
          "name": "stderr",
          "output_type": "stream",
          "text": [
            "Depth=4, working on node 14: 100%|██████████| 15/15 [00:00<00:00, 598.72it/s] \n"
          ]
        },
        {
          "name": "stdout",
          "output_type": "stream",
          "text": [
            "Finishing Fast Adjacency Search.\n",
            "X4 --> X1\n",
            "X6 --> X4\n",
            "X10 --> X9\n",
            "X15 --> X9\n",
            "X15 --> X12\n",
            "Starting Fast Adjacency Search.\n"
          ]
        },
        {
          "name": "stderr",
          "output_type": "stream",
          "text": [
            "Depth=4, working on node 14: 100%|██████████| 15/15 [00:00<00:00, 1192.76it/s]\n"
          ]
        },
        {
          "name": "stdout",
          "output_type": "stream",
          "text": [
            "Finishing Fast Adjacency Search.\n",
            "X4 --> X1\n",
            "X6 --> X4\n",
            "X15 --> X12\n",
            "Starting Fast Adjacency Search.\n"
          ]
        },
        {
          "name": "stderr",
          "output_type": "stream",
          "text": [
            "Depth=4, working on node 14: 100%|██████████| 15/15 [00:00<00:00, 1076.92it/s]\n"
          ]
        },
        {
          "name": "stdout",
          "output_type": "stream",
          "text": [
            "Finishing Fast Adjacency Search.\n",
            "X4 --> X1\n",
            "X6 --> X4\n",
            "X10 --> X9\n",
            "X15 --> X9\n",
            "X15 --> X12\n",
            "Starting Fast Adjacency Search.\n"
          ]
        },
        {
          "name": "stderr",
          "output_type": "stream",
          "text": [
            "Depth=4, working on node 14: 100%|██████████| 15/15 [00:00<00:00, 833.36it/s]\n"
          ]
        },
        {
          "name": "stdout",
          "output_type": "stream",
          "text": [
            "Finishing Fast Adjacency Search.\n",
            "X4 --> X1\n",
            "X6 --> X4\n",
            "X15 --> X12\n",
            "Starting Fast Adjacency Search.\n"
          ]
        },
        {
          "name": "stderr",
          "output_type": "stream",
          "text": [
            "Depth=4, working on node 14: 100%|██████████| 15/15 [00:00<00:00, 1013.39it/s]\n"
          ]
        },
        {
          "name": "stdout",
          "output_type": "stream",
          "text": [
            "Finishing Fast Adjacency Search.\n",
            "X4 --> X1\n",
            "X6 --> X4\n",
            "X15 --> X12\n",
            "Starting Fast Adjacency Search.\n"
          ]
        },
        {
          "name": "stderr",
          "output_type": "stream",
          "text": [
            "Depth=4, working on node 14: 100%|██████████| 15/15 [00:00<00:00, 1069.52it/s]\n"
          ]
        },
        {
          "name": "stdout",
          "output_type": "stream",
          "text": [
            "Finishing Fast Adjacency Search.\n",
            "X4 --> X1\n",
            "X6 --> X4\n",
            "X15 --> X12\n",
            "Starting Fast Adjacency Search.\n"
          ]
        },
        {
          "name": "stderr",
          "output_type": "stream",
          "text": [
            "Depth=4, working on node 14: 100%|██████████| 15/15 [00:00<00:00, 994.71it/s] \n"
          ]
        },
        {
          "name": "stdout",
          "output_type": "stream",
          "text": [
            "Finishing Fast Adjacency Search.\n",
            "X4 --> X1\n",
            "X6 --> X4\n",
            "X10 --> X9\n",
            "X15 --> X9\n",
            "X15 --> X12\n",
            "Starting Fast Adjacency Search.\n"
          ]
        },
        {
          "name": "stderr",
          "output_type": "stream",
          "text": [
            "Depth=5, working on node 14: 100%|██████████| 15/15 [00:00<00:00, 882.86it/s]\n"
          ]
        },
        {
          "name": "stdout",
          "output_type": "stream",
          "text": [
            "Finishing Fast Adjacency Search.\n",
            "X4 --> X1\n",
            "X3 --> X2\n",
            "X3 --> X7\n",
            "X6 --> X4\n",
            "X10 --> X9\n",
            "X15 --> X9\n",
            "X15 --> X12\n",
            "Starting Fast Adjacency Search.\n"
          ]
        },
        {
          "name": "stderr",
          "output_type": "stream",
          "text": [
            "Depth=4, working on node 14: 100%|██████████| 15/15 [00:00<00:00, 882.69it/s] \n"
          ]
        },
        {
          "name": "stdout",
          "output_type": "stream",
          "text": [
            "Finishing Fast Adjacency Search.\n",
            "X4 --> X1\n",
            "X6 --> X4\n",
            "X8 --> X10\n",
            "X15 --> X12\n",
            "Starting Fast Adjacency Search.\n"
          ]
        },
        {
          "name": "stderr",
          "output_type": "stream",
          "text": [
            "Depth=4, working on node 14: 100%|██████████| 15/15 [00:00<00:00, 797.18it/s]\n"
          ]
        },
        {
          "name": "stdout",
          "output_type": "stream",
          "text": [
            "Finishing Fast Adjacency Search.\n",
            "X4 --> X1\n",
            "X6 --> X4\n",
            "X15 --> X12\n",
            "Starting Fast Adjacency Search.\n"
          ]
        },
        {
          "name": "stderr",
          "output_type": "stream",
          "text": [
            "Depth=4, working on node 14: 100%|██████████| 15/15 [00:00<00:00, 814.39it/s] \n"
          ]
        },
        {
          "name": "stdout",
          "output_type": "stream",
          "text": [
            "Finishing Fast Adjacency Search.\n",
            "X4 --> X1\n",
            "X6 --> X4\n",
            "X15 --> X12\n",
            "Starting Fast Adjacency Search.\n"
          ]
        },
        {
          "name": "stderr",
          "output_type": "stream",
          "text": [
            "Depth=4, working on node 14: 100%|██████████| 15/15 [00:00<00:00, 819.41it/s]\n"
          ]
        },
        {
          "name": "stdout",
          "output_type": "stream",
          "text": [
            "Finishing Fast Adjacency Search.\n",
            "X4 --> X1\n",
            "X6 --> X4\n",
            "X10 --> X9\n",
            "X15 --> X9\n",
            "X15 --> X12\n",
            "Starting Fast Adjacency Search.\n"
          ]
        },
        {
          "name": "stderr",
          "output_type": "stream",
          "text": [
            "Depth=4, working on node 14: 100%|██████████| 15/15 [00:00<00:00, 661.55it/s] \n"
          ]
        },
        {
          "name": "stdout",
          "output_type": "stream",
          "text": [
            "Finishing Fast Adjacency Search.\n",
            "X4 --> X1\n",
            "X6 --> X4\n",
            "X10 --> X9\n",
            "X15 --> X9\n",
            "X15 --> X12\n",
            "Starting Fast Adjacency Search.\n"
          ]
        },
        {
          "name": "stderr",
          "output_type": "stream",
          "text": [
            "Depth=4, working on node 14: 100%|██████████| 15/15 [00:00<00:00, 812.76it/s]\n"
          ]
        },
        {
          "name": "stdout",
          "output_type": "stream",
          "text": [
            "Finishing Fast Adjacency Search.\n",
            "X4 --> X1\n",
            "X6 --> X4\n",
            "X15 --> X12\n",
            "Starting Fast Adjacency Search.\n"
          ]
        },
        {
          "name": "stderr",
          "output_type": "stream",
          "text": [
            "Depth=4, working on node 14: 100%|██████████| 15/15 [00:00<00:00, 812.44it/s] \n"
          ]
        },
        {
          "name": "stdout",
          "output_type": "stream",
          "text": [
            "Finishing Fast Adjacency Search.\n",
            "X4 --> X1\n",
            "X6 --> X4\n",
            "X10 --> X9\n",
            "X15 --> X9\n",
            "X15 --> X12\n",
            "Starting Fast Adjacency Search.\n"
          ]
        },
        {
          "name": "stderr",
          "output_type": "stream",
          "text": [
            "Depth=4, working on node 14: 100%|██████████| 15/15 [00:00<00:00, 1132.86it/s]\n"
          ]
        },
        {
          "name": "stdout",
          "output_type": "stream",
          "text": [
            "Finishing Fast Adjacency Search.\n",
            "X4 --> X1\n",
            "X6 --> X4\n",
            "X15 --> X12\n",
            "Starting Fast Adjacency Search.\n"
          ]
        },
        {
          "name": "stderr",
          "output_type": "stream",
          "text": [
            "Depth=4, working on node 14: 100%|██████████| 15/15 [00:00<00:00, 823.69it/s] \n"
          ]
        },
        {
          "name": "stdout",
          "output_type": "stream",
          "text": [
            "Finishing Fast Adjacency Search.\n",
            "X4 --> X1\n",
            "X6 --> X4\n",
            "X15 --> X12\n",
            "Starting Fast Adjacency Search.\n"
          ]
        },
        {
          "name": "stderr",
          "output_type": "stream",
          "text": [
            "Depth=4, working on node 14: 100%|██████████| 15/15 [00:00<00:00, 1221.69it/s]\n"
          ]
        },
        {
          "name": "stdout",
          "output_type": "stream",
          "text": [
            "Finishing Fast Adjacency Search.\n",
            "X4 --> X1\n",
            "X6 --> X4\n",
            "X10 --> X9\n",
            "X15 --> X9\n",
            "X15 --> X12\n",
            "Starting Fast Adjacency Search.\n"
          ]
        },
        {
          "name": "stderr",
          "output_type": "stream",
          "text": [
            "Depth=4, working on node 14: 100%|██████████| 15/15 [00:00<00:00, 1077.41it/s]\n"
          ]
        },
        {
          "name": "stdout",
          "output_type": "stream",
          "text": [
            "Finishing Fast Adjacency Search.\n",
            "X4 --> X1\n",
            "X6 --> X4\n",
            "X6 --> X13\n",
            "X15 --> X12\n",
            "Starting Fast Adjacency Search.\n"
          ]
        },
        {
          "name": "stderr",
          "output_type": "stream",
          "text": [
            "Depth=4, working on node 14: 100%|██████████| 15/15 [00:00<00:00, 852.97it/s]\n"
          ]
        },
        {
          "name": "stdout",
          "output_type": "stream",
          "text": [
            "Finishing Fast Adjacency Search.\n",
            "X4 --> X1\n",
            "X6 --> X4\n",
            "X15 --> X12\n",
            "Starting Fast Adjacency Search.\n"
          ]
        },
        {
          "name": "stderr",
          "output_type": "stream",
          "text": [
            "Depth=4, working on node 14: 100%|██████████| 15/15 [00:00<00:00, 702.92it/s] \n"
          ]
        },
        {
          "name": "stdout",
          "output_type": "stream",
          "text": [
            "Finishing Fast Adjacency Search.\n",
            "X4 --> X1\n",
            "X6 --> X4\n",
            "X9 --> X8\n",
            "X8 --> X10\n",
            "X8 --> X11\n",
            "X15 --> X9\n",
            "X11 --> X13\n",
            "X15 --> X12\n",
            "Starting Fast Adjacency Search.\n"
          ]
        },
        {
          "name": "stderr",
          "output_type": "stream",
          "text": [
            "Depth=4, working on node 14: 100%|██████████| 15/15 [00:00<00:00, 682.87it/s]\n"
          ]
        },
        {
          "name": "stdout",
          "output_type": "stream",
          "text": [
            "Finishing Fast Adjacency Search.\n",
            "X4 --> X1\n",
            "X8 --> X1\n",
            "X6 --> X4\n",
            "X6 --> X8\n",
            "X8 --> X10\n",
            "X15 --> X12\n",
            "Starting Fast Adjacency Search.\n"
          ]
        },
        {
          "name": "stderr",
          "output_type": "stream",
          "text": [
            "Depth=4, working on node 14: 100%|██████████| 15/15 [00:00<00:00, 724.56it/s]\n"
          ]
        },
        {
          "name": "stdout",
          "output_type": "stream",
          "text": [
            "Finishing Fast Adjacency Search.\n",
            "X4 --> X1\n",
            "X8 --> X1\n",
            "X6 --> X4\n",
            "X6 --> X8\n",
            "X8 --> X10\n",
            "X10 --> X9\n",
            "X15 --> X9\n",
            "X15 --> X12\n",
            "Starting Fast Adjacency Search.\n"
          ]
        },
        {
          "name": "stderr",
          "output_type": "stream",
          "text": [
            "Depth=4, working on node 14: 100%|██████████| 15/15 [00:00<00:00, 1289.05it/s]\n"
          ]
        },
        {
          "name": "stdout",
          "output_type": "stream",
          "text": [
            "Finishing Fast Adjacency Search.\n",
            "X4 --> X1\n",
            "X6 --> X4\n",
            "X10 --> X9\n",
            "X15 --> X9\n",
            "X15 --> X12\n",
            "Starting Fast Adjacency Search.\n"
          ]
        },
        {
          "name": "stderr",
          "output_type": "stream",
          "text": [
            "Depth=4, working on node 14: 100%|██████████| 15/15 [00:00<00:00, 643.23it/s]\n"
          ]
        },
        {
          "name": "stdout",
          "output_type": "stream",
          "text": [
            "Finishing Fast Adjacency Search.\n",
            "X4 --> X1\n",
            "X6 --> X4\n",
            "X15 --> X12\n",
            "Starting Fast Adjacency Search.\n"
          ]
        },
        {
          "name": "stderr",
          "output_type": "stream",
          "text": [
            "Depth=4, working on node 14: 100%|██████████| 15/15 [00:00<00:00, 672.00it/s]\n"
          ]
        },
        {
          "name": "stdout",
          "output_type": "stream",
          "text": [
            "Finishing Fast Adjacency Search.\n",
            "X4 --> X1\n",
            "X6 --> X4\n",
            "X10 --> X9\n",
            "X15 --> X9\n",
            "X15 --> X12\n",
            "Starting Fast Adjacency Search.\n"
          ]
        },
        {
          "name": "stderr",
          "output_type": "stream",
          "text": [
            "Depth=4, working on node 14: 100%|██████████| 15/15 [00:00<00:00, 864.58it/s]\n"
          ]
        },
        {
          "name": "stdout",
          "output_type": "stream",
          "text": [
            "Finishing Fast Adjacency Search.\n",
            "X4 --> X1\n",
            "X6 --> X4\n",
            "X15 --> X12\n",
            "Starting Fast Adjacency Search.\n"
          ]
        },
        {
          "name": "stderr",
          "output_type": "stream",
          "text": [
            "Depth=4, working on node 14: 100%|██████████| 15/15 [00:00<00:00, 1124.50it/s]\n"
          ]
        },
        {
          "name": "stdout",
          "output_type": "stream",
          "text": [
            "Finishing Fast Adjacency Search.\n",
            "X4 --> X1\n",
            "X6 --> X4\n",
            "X15 --> X12\n",
            "Starting Fast Adjacency Search.\n"
          ]
        },
        {
          "name": "stderr",
          "output_type": "stream",
          "text": [
            "Depth=4, working on node 14: 100%|██████████| 15/15 [00:00<00:00, 785.82it/s]\n"
          ]
        },
        {
          "name": "stdout",
          "output_type": "stream",
          "text": [
            "Finishing Fast Adjacency Search.\n",
            "X4 --> X1\n",
            "X6 --> X4\n",
            "X15 --> X12\n",
            "Starting Fast Adjacency Search.\n"
          ]
        },
        {
          "name": "stderr",
          "output_type": "stream",
          "text": [
            "Depth=4, working on node 14: 100%|██████████| 15/15 [00:00<00:00, 675.32it/s]\n"
          ]
        },
        {
          "name": "stdout",
          "output_type": "stream",
          "text": [
            "Finishing Fast Adjacency Search.\n",
            "X4 --> X1\n",
            "X6 --> X4\n",
            "X8 --> X11\n",
            "X10 --> X9\n",
            "X15 --> X9\n",
            "X11 --> X13\n",
            "X15 --> X12\n",
            "Starting Fast Adjacency Search.\n"
          ]
        },
        {
          "name": "stderr",
          "output_type": "stream",
          "text": [
            "Depth=4, working on node 14: 100%|██████████| 15/15 [00:00<00:00, 754.02it/s]\n"
          ]
        },
        {
          "name": "stdout",
          "output_type": "stream",
          "text": [
            "Finishing Fast Adjacency Search.\n",
            "X4 --> X1\n",
            "X8 --> X1\n",
            "X6 --> X4\n",
            "X8 --> X10\n",
            "X10 --> X9\n",
            "X15 --> X9\n",
            "X15 --> X12\n",
            "Starting Fast Adjacency Search.\n"
          ]
        },
        {
          "name": "stderr",
          "output_type": "stream",
          "text": [
            "Depth=4, working on node 14: 100%|██████████| 15/15 [00:00<00:00, 801.13it/s]\n"
          ]
        },
        {
          "name": "stdout",
          "output_type": "stream",
          "text": [
            "Finishing Fast Adjacency Search.\n",
            "X4 --> X1\n",
            "X6 --> X4\n",
            "X10 --> X9\n",
            "X15 --> X9\n",
            "X15 --> X12\n",
            "Starting Fast Adjacency Search.\n"
          ]
        },
        {
          "name": "stderr",
          "output_type": "stream",
          "text": [
            "Depth=4, working on node 14: 100%|██████████| 15/15 [00:00<00:00, 741.63it/s] \n"
          ]
        },
        {
          "name": "stdout",
          "output_type": "stream",
          "text": [
            "Finishing Fast Adjacency Search.\n",
            "X4 --> X1\n",
            "X6 --> X4\n",
            "X8 --> X11\n",
            "X11 --> X13\n",
            "X15 --> X12\n",
            "Starting Fast Adjacency Search.\n"
          ]
        },
        {
          "name": "stderr",
          "output_type": "stream",
          "text": [
            "Depth=4, working on node 14: 100%|██████████| 15/15 [00:00<00:00, 793.18it/s] \n"
          ]
        },
        {
          "name": "stdout",
          "output_type": "stream",
          "text": [
            "Finishing Fast Adjacency Search.\n",
            "X4 --> X1\n",
            "X6 --> X4\n",
            "X10 --> X9\n",
            "X15 --> X9\n",
            "X15 --> X12\n",
            "Starting Fast Adjacency Search.\n"
          ]
        },
        {
          "name": "stderr",
          "output_type": "stream",
          "text": [
            "Depth=4, working on node 14: 100%|██████████| 15/15 [00:00<00:00, 825.61it/s]\n"
          ]
        },
        {
          "name": "stdout",
          "output_type": "stream",
          "text": [
            "Finishing Fast Adjacency Search.\n",
            "X4 --> X1\n",
            "X8 --> X1\n",
            "X6 --> X4\n",
            "X6 --> X8\n",
            "X8 --> X10\n",
            "X10 --> X9\n",
            "X15 --> X9\n",
            "X15 --> X12\n"
          ]
        }
      ],
      "source": [
        "\n",
        "PC_results_aggregated_MEC, GSP_results_aggregated_MEC, GES_results_aggregated_MEC, FCI_results_aggregated_MEC = [], [], [], []\n",
        "PC_results_aggregated_skeleton, GSP_results_aggregated_skeleton, GES_results_aggregated_skeleton, FCI_results_aggregated_skeleton = [], [], [], []\n",
        "\n",
        "alpha = 0.01\n",
        "for i in range(3):\n",
        "  nnodes = 15\n",
        "  d = directed_erdos(nnodes, 0.2)\n",
        "  d_mec = get_mec(d.to_amat()[0])\n",
        "  g = rand_weights(d)\n",
        "  sample_nums = list(range(30,10000, 100))\n",
        "  PC_results_MEC, GSP_results_MEC, GES_results_MEC, FCI_results_MEC = [], [], [], []\n",
        "  PC_results_skeleton, GSP_results_skeleton, GES_results_skeleton, FCI_results_skeleton = [], [], [], []\n",
        "  for sample_num in sample_nums:\n",
        "      samples = g.sample(sample_num)\n",
        "      suffstat = partial_correlation_suffstat(samples)\n",
        "      ci_tester = MemoizedCI_Tester(partial_correlation_test, suffstat, alpha=alpha)\n",
        "      # PC\n",
        "      estimated_graph_pc = pcalg(set(range(nnodes)), ci_tester)\n",
        "\n",
        "      # GSP\n",
        "      estimated_graph_gsp = gsp(set(range(nnodes)), ci_tester)\n",
        "\n",
        "      # GES\n",
        "      estimate, score = ges.fit_bic(samples)\n",
        "\n",
        "      # FCI\n",
        "      G, edges = fci(samples,fisherz,alpha, verbose=False)\n",
        "\n",
        "      PC_results_MEC.append(d.shd_skeleton(estimated_graph_pc))\n",
        "      GSP_results_MEC.append(d.shd_skeleton(estimated_graph_gsp))\n",
        "      GES_results_MEC.append(shd_skeleton_simple(get_skeleton(d.to_amat()[0]), get_skeleton(estimate)))\n",
        "      FCI_results_MEC.append(shd_skeleton_simple(get_skeleton(d.to_amat()[0]), get_skeleton(G.graph)))\n",
        "\n",
        "      PC_results_skeleton.append(shd_mec_simple(d_mec, get_mec(estimated_graph_pc.to_amat()[0])))\n",
        "      GSP_results_skeleton.append(shd_mec_simple(d_mec, get_mec(estimated_graph_gsp.to_amat()[0])))\n",
        "      GES_results_skeleton.append(shd_mec_simple(d_mec, get_mec(estimate)))\n",
        "      FCI_results_skeleton.append(shd_mec_simple(d_mec, get_mec(G.graph)))\n",
        "\n",
        "  \n",
        "  PC_results_aggregated_MEC.append(PC_results_MEC)\n",
        "  GSP_results_aggregated_MEC.append(GSP_results_MEC)\n",
        "  GES_results_aggregated_MEC.append(GES_results_MEC)\n",
        "  FCI_results_aggregated_MEC.append(FCI_results_MEC)\n",
        "\n",
        "  PC_results_aggregated_skeleton.append(PC_results_skeleton)\n",
        "  GSP_results_aggregated_skeleton.append(GSP_results_skeleton)\n",
        "  GES_results_aggregated_skeleton.append(GES_results_skeleton)\n",
        "  FCI_results_aggregated_skeleton.append(FCI_results_skeleton)"
      ]
    },
    {
      "cell_type": "code",
      "execution_count": 4,
      "metadata": {},
      "outputs": [],
      "source": [
        "# save results as pickles\n",
        "import pickle\n",
        "\n",
        "with open('PC_results_aggregated_MEC.pkl', 'wb') as f:\n",
        "    pickle.dump(PC_results_aggregated_MEC, f)\n",
        "\n",
        "with open('GSP_results_aggregated_MEC.pkl', 'wb') as f:\n",
        "    pickle.dump(GSP_results_aggregated_MEC, f)\n",
        "\n",
        "with open('GES_results_aggregated_MEC.pkl', 'wb') as f:\n",
        "    pickle.dump(GES_results_aggregated_MEC, f)\n",
        "\n",
        "with open('PC_results_aggregated_skeleton.pkl', 'wb') as f:\n",
        "    pickle.dump(PC_results_aggregated_skeleton, f)\n",
        "\n",
        "with open('GSP_results_aggregated_skeleton.pkl', 'wb') as f:\n",
        "    pickle.dump(GSP_results_aggregated_skeleton, f)\n",
        "\n",
        "with open('GES_results_aggregated_skeleton.pkl', 'wb') as f:\n",
        "    pickle.dump(GES_results_aggregated_skeleton, f)\n",
        "\n",
        "with open('FCI_results_aggregated_MEC.pkl', 'wb') as f:\n",
        "    pickle.dump(FCI_results_aggregated_MEC, f)\n",
        "\n",
        "with open('FCI_results_aggregated_skeleton.pkl', 'wb') as f:\n",
        "    pickle.dump(FCI_results_aggregated_skeleton, f)\n",
        "\n"
      ]
    },
    {
      "cell_type": "code",
      "execution_count": 5,
      "metadata": {
        "id": "_SMbg28KSXk3"
      },
      "outputs": [
        {
          "data": {
            "image/png": "[encoded data removed]",
            "text/plain": [
              "<Figure size 640x480 with 1 Axes>"
            ]
          },
          "metadata": {},
          "output_type": "display_data"
        },
        {
          "data": {
            "image/png": "[encoded data removed]",
            "text/plain": [
              "<Figure size 640x480 with 1 Axes>"
            ]
          },
          "metadata": {},
          "output_type": "display_data"
        }
      ],
      "source": [
        "PC_results_aggregated_MEC = np.array(PC_results_aggregated_MEC)\n",
        "GSP_results_aggregated_MEC = np.array(GSP_results_aggregated_MEC)\n",
        "GES_results_aggregated_MEC  = np.array(GES_results_aggregated_MEC)\n",
        "FCI_results_aggregated_MEC = np.array(FCI_results_aggregated_MEC)\n",
        "\n",
        "\n",
        "PC_results_MEC_avg = np.average(PC_results_aggregated_MEC, axis=0)\n",
        "GSP_results_MEC_avg = np.average(GSP_results_aggregated_MEC, axis=0)\n",
        "GES_results_MEC_avg = np.average(GES_results_aggregated_MEC, axis=0)\n",
        "FCI_results_aggregated_MEC_avg = np.average(FCI_results_aggregated_MEC, axis=0)\n",
        "\n",
        "plt.plot(sample_nums, PC_results_MEC_avg)\n",
        "plt.plot(sample_nums, GSP_results_MEC_avg)\n",
        "plt.plot(sample_nums, GES_results_MEC_avg)\n",
        "plt.plot(sample_nums, FCI_results_aggregated_MEC_avg)\n",
        "plt.show()\n",
        "\n",
        "PC_results_aggregated_skeleton = np.array(PC_results_aggregated_skeleton)\n",
        "GSP_results_aggregated_skeleton = np.array(GSP_results_aggregated_skeleton)\n",
        "GES_results_aggregated_skeleton  = np.array(GES_results_aggregated_skeleton)\n",
        "FCI_results_aggregated_skeleton = np.array(FCI_results_aggregated_skeleton)\n",
        "\n",
        "PC_results_skeleton_avg = np.average(PC_results_aggregated_skeleton, axis=0)\n",
        "GSP_results_skeleton_avg = np.average(GSP_results_aggregated_skeleton, axis=0)\n",
        "GES_results_skeleton_avg = np.average(GES_results_aggregated_skeleton, axis=0)\n",
        "FCI_results_skeleton_avg = np.average(FCI_results_aggregated_skeleton, axis=0)\n",
        "\n",
        "plt.plot(sample_nums, PC_results_skeleton_avg, label=\"PC\", color=\"blue\")\n",
        "plt.plot(sample_nums, GSP_results_skeleton_avg, label=\"GSP\", color=\"red\")\n",
        "plt.plot(sample_nums, GES_results_skeleton_avg, label=\"GES\", color=\"green\")\n",
        "plt.plot(sample_nums, FCI_results_skeleton_avg, label=\"FCI\", color=\"orange\")\n",
        "plt.show()"
      ]
    }
  ],
  "metadata": {
    "accelerator": "GPU",
    "colab": {
      "provenance": []
    },
    "gpuClass": "standard",
    "kernelspec": {
      "display_name": "venv",
      "language": "python",
      "name": "python3"
    },
    "language_info": {
      "codemirror_mode": {
        "name": "ipython",
        "version": 3
      },
      "file_extension": ".py",
      "mimetype": "text/x-python",
      "name": "python",
      "nbconvert_exporter": "python",
      "pygments_lexer": "ipython3",
      "version": "3.8.10 (default, Nov 14 2022, 12:59:47) \n[GCC 9.4.0]"
    },
    "vscode": {
      "interpreter": {
        "hash": "7dcc4fd24816707244341f23a9450d34bddd9b2dc879f049db8bf0cae1ef65fe"
      }
    }
  },
  "nbformat": 4,
  "nbformat_minor": 0
}
